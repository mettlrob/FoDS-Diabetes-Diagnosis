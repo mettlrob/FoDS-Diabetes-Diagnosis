{
 "cells": [
  {
   "cell_type": "markdown",
   "metadata": {},
   "source": [
    "### This is notebook is meant to collect the summary data for each model and plot the results using a barplot."
   ]
  },
  {
   "cell_type": "code",
   "execution_count": 25,
   "metadata": {},
   "outputs": [],
   "source": [
    "import pandas as pd\n",
    "import numpy as np\n",
    "import matplotlib.pyplot as plt\n",
    "import seaborn as sns"
   ]
  },
  {
   "cell_type": "code",
   "execution_count": null,
   "metadata": {},
   "outputs": [
    {
     "name": "stdout",
     "output_type": "stream",
     "text": [
      "(1, 11)\n",
      "(1, 11)\n",
      "(1, 11)\n",
      "(1, 11)\n"
     ]
    }
   ],
   "source": [
    "#read in data\n",
    "df_knn = pd.read_csv('knn_summary_metrics.csv')\n",
    "df_rf = pd.read_csv('rfc_cv_summary_metrics.csv')\n",
    "df_svm = pd.read_csv('svm_summary_metrics.csv')\n",
    "df_logr = pd.read_csv('logreg_summary_metrics.csv')\n",
    "\n",
    "print(df_knn.shape)\n",
    "print(df_rf.shape)\n",
    "print(df_svm.shape)\n",
    "print(df_logr.shape)"
   ]
  },
  {
   "cell_type": "code",
   "execution_count": 10,
   "metadata": {},
   "outputs": [],
   "source": [
    "combined_df = pd.concat([df_logr, df_svm, df_knn, df_rf], axis=0)\n",
    "combined_df.reset_index(drop=True, inplace=True)"
   ]
  },
  {
   "cell_type": "code",
   "execution_count": 12,
   "metadata": {},
   "outputs": [
    {
     "data": {
      "application/vnd.microsoft.datawrangler.viewer.v0+json": {
       "columns": [
        {
         "name": "index",
         "rawType": "int64",
         "type": "integer"
        },
        {
         "name": "Model",
         "rawType": "object",
         "type": "string"
        },
        {
         "name": "F1_Mean",
         "rawType": "float64",
         "type": "float"
        },
        {
         "name": "F1_Std",
         "rawType": "float64",
         "type": "float"
        },
        {
         "name": "Recall_Mean",
         "rawType": "float64",
         "type": "float"
        },
        {
         "name": "Recall_Std",
         "rawType": "float64",
         "type": "float"
        },
        {
         "name": "Precision_Mean",
         "rawType": "float64",
         "type": "float"
        },
        {
         "name": "Precision_Std",
         "rawType": "float64",
         "type": "float"
        },
        {
         "name": "Accuracy_Mean",
         "rawType": "float64",
         "type": "float"
        },
        {
         "name": "Accuracy_Std",
         "rawType": "float64",
         "type": "float"
        },
        {
         "name": "ROC_AUC_Mean",
         "rawType": "float64",
         "type": "float"
        },
        {
         "name": "ROC_AUC_Std",
         "rawType": "float64",
         "type": "float"
        }
       ],
       "conversionMethod": "pd.DataFrame",
       "ref": "57a30fd5-210b-484a-9bb4-b8a1376bcdea",
       "rows": [
        [
         "0",
         "LogisticRegression",
         "0.6655956573912079",
         "0.0406655824636835",
         "0.7577917540181691",
         "0.0609059476756882",
         "0.5951648351648352",
         "0.0393744099807625",
         "0.7344622697563874",
         "0.0336495182061158",
         "0.8337763801537387",
         "0.0328085440601528"
        ],
        [
         "1",
         "SVM",
         "0.6664491513336186",
         "0.0422637837569616",
         "0.7200559049615654",
         "0.0322495500816623",
         "0.6251310203484116",
         "0.0722865181720589",
         "0.7460232577879637",
         "0.0462132639848647",
         "0.8362959468902865",
         "0.0233815453058523"
        ],
        [
         "2",
         "KNN",
         "0.6429916575613049",
         "0.023091273927825",
         "0.7163522012578616",
         "0.0400830679816645",
         "0.5845949755183022",
         "0.0260139249799354",
         "0.7226211696799932",
         "0.0191687135986941",
         "0.7830017470300489",
         "0.0255153518282774"
        ],
        [
         "3",
         "RandomForest_CV",
         "0.6529375453885258",
         "0.0125366093756271",
         "0.6496124031007752",
         "0.0283343672596853",
         "0.6598291199869367",
         "0.0429433962139615",
         "0.7589630814340931",
         "0.0181648494510533",
         "0.8330384828349944",
         "0.0213440532425509"
        ]
       ],
       "shape": {
        "columns": 11,
        "rows": 4
       }
      },
      "text/html": [
       "<div>\n",
       "<style scoped>\n",
       "    .dataframe tbody tr th:only-of-type {\n",
       "        vertical-align: middle;\n",
       "    }\n",
       "\n",
       "    .dataframe tbody tr th {\n",
       "        vertical-align: top;\n",
       "    }\n",
       "\n",
       "    .dataframe thead th {\n",
       "        text-align: right;\n",
       "    }\n",
       "</style>\n",
       "<table border=\"1\" class=\"dataframe\">\n",
       "  <thead>\n",
       "    <tr style=\"text-align: right;\">\n",
       "      <th></th>\n",
       "      <th>Model</th>\n",
       "      <th>F1_Mean</th>\n",
       "      <th>F1_Std</th>\n",
       "      <th>Recall_Mean</th>\n",
       "      <th>Recall_Std</th>\n",
       "      <th>Precision_Mean</th>\n",
       "      <th>Precision_Std</th>\n",
       "      <th>Accuracy_Mean</th>\n",
       "      <th>Accuracy_Std</th>\n",
       "      <th>ROC_AUC_Mean</th>\n",
       "      <th>ROC_AUC_Std</th>\n",
       "    </tr>\n",
       "  </thead>\n",
       "  <tbody>\n",
       "    <tr>\n",
       "      <th>0</th>\n",
       "      <td>LogisticRegression</td>\n",
       "      <td>0.665596</td>\n",
       "      <td>0.040666</td>\n",
       "      <td>0.757792</td>\n",
       "      <td>0.060906</td>\n",
       "      <td>0.595165</td>\n",
       "      <td>0.039374</td>\n",
       "      <td>0.734462</td>\n",
       "      <td>0.033650</td>\n",
       "      <td>0.833776</td>\n",
       "      <td>0.032809</td>\n",
       "    </tr>\n",
       "    <tr>\n",
       "      <th>1</th>\n",
       "      <td>SVM</td>\n",
       "      <td>0.666449</td>\n",
       "      <td>0.042264</td>\n",
       "      <td>0.720056</td>\n",
       "      <td>0.032250</td>\n",
       "      <td>0.625131</td>\n",
       "      <td>0.072287</td>\n",
       "      <td>0.746023</td>\n",
       "      <td>0.046213</td>\n",
       "      <td>0.836296</td>\n",
       "      <td>0.023382</td>\n",
       "    </tr>\n",
       "    <tr>\n",
       "      <th>2</th>\n",
       "      <td>KNN</td>\n",
       "      <td>0.642992</td>\n",
       "      <td>0.023091</td>\n",
       "      <td>0.716352</td>\n",
       "      <td>0.040083</td>\n",
       "      <td>0.584595</td>\n",
       "      <td>0.026014</td>\n",
       "      <td>0.722621</td>\n",
       "      <td>0.019169</td>\n",
       "      <td>0.783002</td>\n",
       "      <td>0.025515</td>\n",
       "    </tr>\n",
       "    <tr>\n",
       "      <th>3</th>\n",
       "      <td>RandomForest_CV</td>\n",
       "      <td>0.652938</td>\n",
       "      <td>0.012537</td>\n",
       "      <td>0.649612</td>\n",
       "      <td>0.028334</td>\n",
       "      <td>0.659829</td>\n",
       "      <td>0.042943</td>\n",
       "      <td>0.758963</td>\n",
       "      <td>0.018165</td>\n",
       "      <td>0.833038</td>\n",
       "      <td>0.021344</td>\n",
       "    </tr>\n",
       "  </tbody>\n",
       "</table>\n",
       "</div>"
      ],
      "text/plain": [
       "                Model   F1_Mean    F1_Std  Recall_Mean  Recall_Std  \\\n",
       "0  LogisticRegression  0.665596  0.040666     0.757792    0.060906   \n",
       "1                 SVM  0.666449  0.042264     0.720056    0.032250   \n",
       "2                 KNN  0.642992  0.023091     0.716352    0.040083   \n",
       "3     RandomForest_CV  0.652938  0.012537     0.649612    0.028334   \n",
       "\n",
       "   Precision_Mean  Precision_Std  Accuracy_Mean  Accuracy_Std  ROC_AUC_Mean  \\\n",
       "0        0.595165       0.039374       0.734462      0.033650      0.833776   \n",
       "1        0.625131       0.072287       0.746023      0.046213      0.836296   \n",
       "2        0.584595       0.026014       0.722621      0.019169      0.783002   \n",
       "3        0.659829       0.042943       0.758963      0.018165      0.833038   \n",
       "\n",
       "   ROC_AUC_Std  \n",
       "0     0.032809  \n",
       "1     0.023382  \n",
       "2     0.025515  \n",
       "3     0.021344  "
      ]
     },
     "execution_count": 12,
     "metadata": {},
     "output_type": "execute_result"
    }
   ],
   "source": [
    "combined_df"
   ]
  },
  {
   "cell_type": "code",
   "execution_count": null,
   "metadata": {},
   "outputs": [
    {
     "data": {
      "application/vnd.microsoft.datawrangler.viewer.v0+json": {
       "columns": [
        {
         "name": "index",
         "rawType": "int64",
         "type": "integer"
        },
        {
         "name": "Model",
         "rawType": "object",
         "type": "string"
        },
        {
         "name": "F1_Mean",
         "rawType": "float64",
         "type": "float"
        },
        {
         "name": "F1_Std",
         "rawType": "float64",
         "type": "float"
        },
        {
         "name": "Recall_Mean",
         "rawType": "float64",
         "type": "float"
        },
        {
         "name": "Recall_Std",
         "rawType": "float64",
         "type": "float"
        },
        {
         "name": "Precision_Mean",
         "rawType": "float64",
         "type": "float"
        },
        {
         "name": "Precision_Std",
         "rawType": "float64",
         "type": "float"
        },
        {
         "name": "Accuracy_Mean",
         "rawType": "float64",
         "type": "float"
        },
        {
         "name": "Accuracy_Std",
         "rawType": "float64",
         "type": "float"
        },
        {
         "name": "ROC_AUC_Mean",
         "rawType": "float64",
         "type": "float"
        },
        {
         "name": "ROC_AUC_Std",
         "rawType": "float64",
         "type": "float"
        }
       ],
       "conversionMethod": "pd.DataFrame",
       "ref": "b60cff66-babc-43e8-b8af-5fb31913f182",
       "rows": [
        [
         "0",
         "Logistic Regression",
         "0.6655956573912079",
         "0.0406655824636835",
         "0.7577917540181691",
         "0.0609059476756882",
         "0.5951648351648352",
         "0.0393744099807625",
         "0.7344622697563874",
         "0.0336495182061158",
         "0.8337763801537387",
         "0.0328085440601528"
        ],
        [
         "1",
         "SVM",
         "0.6664491513336186",
         "0.0422637837569616",
         "0.7200559049615654",
         "0.0322495500816623",
         "0.6251310203484116",
         "0.0722865181720589",
         "0.7460232577879637",
         "0.0462132639848647",
         "0.8362959468902865",
         "0.0233815453058523"
        ],
        [
         "2",
         "KNN",
         "0.6429916575613049",
         "0.023091273927825",
         "0.7163522012578616",
         "0.0400830679816645",
         "0.5845949755183022",
         "0.0260139249799354",
         "0.7226211696799932",
         "0.0191687135986941",
         "0.7830017470300489",
         "0.0255153518282774"
        ],
        [
         "3",
         "Random Forest",
         "0.6529375453885258",
         "0.0125366093756271",
         "0.6496124031007752",
         "0.0283343672596853",
         "0.6598291199869367",
         "0.0429433962139615",
         "0.7589630814340931",
         "0.0181648494510533",
         "0.8330384828349944",
         "0.0213440532425509"
        ]
       ],
       "shape": {
        "columns": 11,
        "rows": 4
       }
      },
      "text/html": [
       "<div>\n",
       "<style scoped>\n",
       "    .dataframe tbody tr th:only-of-type {\n",
       "        vertical-align: middle;\n",
       "    }\n",
       "\n",
       "    .dataframe tbody tr th {\n",
       "        vertical-align: top;\n",
       "    }\n",
       "\n",
       "    .dataframe thead th {\n",
       "        text-align: right;\n",
       "    }\n",
       "</style>\n",
       "<table border=\"1\" class=\"dataframe\">\n",
       "  <thead>\n",
       "    <tr style=\"text-align: right;\">\n",
       "      <th></th>\n",
       "      <th>Model</th>\n",
       "      <th>F1_Mean</th>\n",
       "      <th>F1_Std</th>\n",
       "      <th>Recall_Mean</th>\n",
       "      <th>Recall_Std</th>\n",
       "      <th>Precision_Mean</th>\n",
       "      <th>Precision_Std</th>\n",
       "      <th>Accuracy_Mean</th>\n",
       "      <th>Accuracy_Std</th>\n",
       "      <th>ROC_AUC_Mean</th>\n",
       "      <th>ROC_AUC_Std</th>\n",
       "    </tr>\n",
       "  </thead>\n",
       "  <tbody>\n",
       "    <tr>\n",
       "      <th>0</th>\n",
       "      <td>Logistic Regression</td>\n",
       "      <td>0.665596</td>\n",
       "      <td>0.040666</td>\n",
       "      <td>0.757792</td>\n",
       "      <td>0.060906</td>\n",
       "      <td>0.595165</td>\n",
       "      <td>0.039374</td>\n",
       "      <td>0.734462</td>\n",
       "      <td>0.033650</td>\n",
       "      <td>0.833776</td>\n",
       "      <td>0.032809</td>\n",
       "    </tr>\n",
       "    <tr>\n",
       "      <th>1</th>\n",
       "      <td>SVM</td>\n",
       "      <td>0.666449</td>\n",
       "      <td>0.042264</td>\n",
       "      <td>0.720056</td>\n",
       "      <td>0.032250</td>\n",
       "      <td>0.625131</td>\n",
       "      <td>0.072287</td>\n",
       "      <td>0.746023</td>\n",
       "      <td>0.046213</td>\n",
       "      <td>0.836296</td>\n",
       "      <td>0.023382</td>\n",
       "    </tr>\n",
       "    <tr>\n",
       "      <th>2</th>\n",
       "      <td>KNN</td>\n",
       "      <td>0.642992</td>\n",
       "      <td>0.023091</td>\n",
       "      <td>0.716352</td>\n",
       "      <td>0.040083</td>\n",
       "      <td>0.584595</td>\n",
       "      <td>0.026014</td>\n",
       "      <td>0.722621</td>\n",
       "      <td>0.019169</td>\n",
       "      <td>0.783002</td>\n",
       "      <td>0.025515</td>\n",
       "    </tr>\n",
       "    <tr>\n",
       "      <th>3</th>\n",
       "      <td>Random Forest</td>\n",
       "      <td>0.652938</td>\n",
       "      <td>0.012537</td>\n",
       "      <td>0.649612</td>\n",
       "      <td>0.028334</td>\n",
       "      <td>0.659829</td>\n",
       "      <td>0.042943</td>\n",
       "      <td>0.758963</td>\n",
       "      <td>0.018165</td>\n",
       "      <td>0.833038</td>\n",
       "      <td>0.021344</td>\n",
       "    </tr>\n",
       "  </tbody>\n",
       "</table>\n",
       "</div>"
      ],
      "text/plain": [
       "                 Model   F1_Mean    F1_Std  Recall_Mean  Recall_Std  \\\n",
       "0  Logistic Regression  0.665596  0.040666     0.757792    0.060906   \n",
       "1                  SVM  0.666449  0.042264     0.720056    0.032250   \n",
       "2                  KNN  0.642992  0.023091     0.716352    0.040083   \n",
       "3        Random Forest  0.652938  0.012537     0.649612    0.028334   \n",
       "\n",
       "   Precision_Mean  Precision_Std  Accuracy_Mean  Accuracy_Std  ROC_AUC_Mean  \\\n",
       "0        0.595165       0.039374       0.734462      0.033650      0.833776   \n",
       "1        0.625131       0.072287       0.746023      0.046213      0.836296   \n",
       "2        0.584595       0.026014       0.722621      0.019169      0.783002   \n",
       "3        0.659829       0.042943       0.758963      0.018165      0.833038   \n",
       "\n",
       "   ROC_AUC_Std  \n",
       "0     0.032809  \n",
       "1     0.023382  \n",
       "2     0.025515  \n",
       "3     0.021344  "
      ]
     },
     "execution_count": 13,
     "metadata": {},
     "output_type": "execute_result"
    }
   ],
   "source": [
    "#Renaming the models for better readability\n",
    "combined_df['Model'] = combined_df['Model'].replace({\n",
    "    'RandomForest_CV' : 'Random Forest',\n",
    "    'LogisticRegression' : 'Logistic Regression'\n",
    "})\n",
    "combined_df "
   ]
  },
  {
   "cell_type": "code",
   "execution_count": 14,
   "metadata": {},
   "outputs": [
    {
     "data": {
      "application/vnd.microsoft.datawrangler.viewer.v0+json": {
       "columns": [
        {
         "name": "index",
         "rawType": "int64",
         "type": "integer"
        },
        {
         "name": "Model",
         "rawType": "object",
         "type": "string"
        },
        {
         "name": "F1 Score_Mean",
         "rawType": "float64",
         "type": "float"
        },
        {
         "name": "F1 Score_Std",
         "rawType": "float64",
         "type": "float"
        },
        {
         "name": "Recall_Mean",
         "rawType": "float64",
         "type": "float"
        },
        {
         "name": "Recall_Std",
         "rawType": "float64",
         "type": "float"
        },
        {
         "name": "Precision_Mean",
         "rawType": "float64",
         "type": "float"
        },
        {
         "name": "Precision_Std",
         "rawType": "float64",
         "type": "float"
        },
        {
         "name": "Accuracy_Mean",
         "rawType": "float64",
         "type": "float"
        },
        {
         "name": "Accuracy_Std",
         "rawType": "float64",
         "type": "float"
        },
        {
         "name": "ROC AUC_Mean",
         "rawType": "float64",
         "type": "float"
        },
        {
         "name": "ROC AUC_Std",
         "rawType": "float64",
         "type": "float"
        }
       ],
       "conversionMethod": "pd.DataFrame",
       "ref": "3f702a06-55fb-4335-a686-597ef1c45112",
       "rows": [
        [
         "0",
         "Logistic Regression",
         "0.6655956573912079",
         "0.0406655824636835",
         "0.7577917540181691",
         "0.0609059476756882",
         "0.5951648351648352",
         "0.0393744099807625",
         "0.7344622697563874",
         "0.0336495182061158",
         "0.8337763801537387",
         "0.0328085440601528"
        ],
        [
         "1",
         "SVM",
         "0.6664491513336186",
         "0.0422637837569616",
         "0.7200559049615654",
         "0.0322495500816623",
         "0.6251310203484116",
         "0.0722865181720589",
         "0.7460232577879637",
         "0.0462132639848647",
         "0.8362959468902865",
         "0.0233815453058523"
        ],
        [
         "2",
         "KNN",
         "0.6429916575613049",
         "0.023091273927825",
         "0.7163522012578616",
         "0.0400830679816645",
         "0.5845949755183022",
         "0.0260139249799354",
         "0.7226211696799932",
         "0.0191687135986941",
         "0.7830017470300489",
         "0.0255153518282774"
        ],
        [
         "3",
         "Random Forest",
         "0.6529375453885258",
         "0.0125366093756271",
         "0.6496124031007752",
         "0.0283343672596853",
         "0.6598291199869367",
         "0.0429433962139615",
         "0.7589630814340931",
         "0.0181648494510533",
         "0.8330384828349944",
         "0.0213440532425509"
        ]
       ],
       "shape": {
        "columns": 11,
        "rows": 4
       }
      },
      "text/html": [
       "<div>\n",
       "<style scoped>\n",
       "    .dataframe tbody tr th:only-of-type {\n",
       "        vertical-align: middle;\n",
       "    }\n",
       "\n",
       "    .dataframe tbody tr th {\n",
       "        vertical-align: top;\n",
       "    }\n",
       "\n",
       "    .dataframe thead th {\n",
       "        text-align: right;\n",
       "    }\n",
       "</style>\n",
       "<table border=\"1\" class=\"dataframe\">\n",
       "  <thead>\n",
       "    <tr style=\"text-align: right;\">\n",
       "      <th></th>\n",
       "      <th>Model</th>\n",
       "      <th>F1 Score_Mean</th>\n",
       "      <th>F1 Score_Std</th>\n",
       "      <th>Recall_Mean</th>\n",
       "      <th>Recall_Std</th>\n",
       "      <th>Precision_Mean</th>\n",
       "      <th>Precision_Std</th>\n",
       "      <th>Accuracy_Mean</th>\n",
       "      <th>Accuracy_Std</th>\n",
       "      <th>ROC AUC_Mean</th>\n",
       "      <th>ROC AUC_Std</th>\n",
       "    </tr>\n",
       "  </thead>\n",
       "  <tbody>\n",
       "    <tr>\n",
       "      <th>0</th>\n",
       "      <td>Logistic Regression</td>\n",
       "      <td>0.665596</td>\n",
       "      <td>0.040666</td>\n",
       "      <td>0.757792</td>\n",
       "      <td>0.060906</td>\n",
       "      <td>0.595165</td>\n",
       "      <td>0.039374</td>\n",
       "      <td>0.734462</td>\n",
       "      <td>0.033650</td>\n",
       "      <td>0.833776</td>\n",
       "      <td>0.032809</td>\n",
       "    </tr>\n",
       "    <tr>\n",
       "      <th>1</th>\n",
       "      <td>SVM</td>\n",
       "      <td>0.666449</td>\n",
       "      <td>0.042264</td>\n",
       "      <td>0.720056</td>\n",
       "      <td>0.032250</td>\n",
       "      <td>0.625131</td>\n",
       "      <td>0.072287</td>\n",
       "      <td>0.746023</td>\n",
       "      <td>0.046213</td>\n",
       "      <td>0.836296</td>\n",
       "      <td>0.023382</td>\n",
       "    </tr>\n",
       "    <tr>\n",
       "      <th>2</th>\n",
       "      <td>KNN</td>\n",
       "      <td>0.642992</td>\n",
       "      <td>0.023091</td>\n",
       "      <td>0.716352</td>\n",
       "      <td>0.040083</td>\n",
       "      <td>0.584595</td>\n",
       "      <td>0.026014</td>\n",
       "      <td>0.722621</td>\n",
       "      <td>0.019169</td>\n",
       "      <td>0.783002</td>\n",
       "      <td>0.025515</td>\n",
       "    </tr>\n",
       "    <tr>\n",
       "      <th>3</th>\n",
       "      <td>Random Forest</td>\n",
       "      <td>0.652938</td>\n",
       "      <td>0.012537</td>\n",
       "      <td>0.649612</td>\n",
       "      <td>0.028334</td>\n",
       "      <td>0.659829</td>\n",
       "      <td>0.042943</td>\n",
       "      <td>0.758963</td>\n",
       "      <td>0.018165</td>\n",
       "      <td>0.833038</td>\n",
       "      <td>0.021344</td>\n",
       "    </tr>\n",
       "  </tbody>\n",
       "</table>\n",
       "</div>"
      ],
      "text/plain": [
       "                 Model  F1 Score_Mean  F1 Score_Std  Recall_Mean  Recall_Std  \\\n",
       "0  Logistic Regression       0.665596      0.040666     0.757792    0.060906   \n",
       "1                  SVM       0.666449      0.042264     0.720056    0.032250   \n",
       "2                  KNN       0.642992      0.023091     0.716352    0.040083   \n",
       "3        Random Forest       0.652938      0.012537     0.649612    0.028334   \n",
       "\n",
       "   Precision_Mean  Precision_Std  Accuracy_Mean  Accuracy_Std  ROC AUC_Mean  \\\n",
       "0        0.595165       0.039374       0.734462      0.033650      0.833776   \n",
       "1        0.625131       0.072287       0.746023      0.046213      0.836296   \n",
       "2        0.584595       0.026014       0.722621      0.019169      0.783002   \n",
       "3        0.659829       0.042943       0.758963      0.018165      0.833038   \n",
       "\n",
       "   ROC AUC_Std  \n",
       "0     0.032809  \n",
       "1     0.023382  \n",
       "2     0.025515  \n",
       "3     0.021344  "
      ]
     },
     "execution_count": 14,
     "metadata": {},
     "output_type": "execute_result"
    }
   ],
   "source": [
    "#Renaming the columns for better readability\n",
    "combined_df = combined_df.rename(columns={\n",
    "    'ROC_AUC_Mean' : 'ROC AUC_Mean',\n",
    "    'ROC_AUC_Std' : 'ROC AUC_Std',\n",
    "    'F1_Mean' : 'F1 Score_Mean',\n",
    "    'F1_Std' : 'F1 Score_Std',\n",
    "})\n",
    "combined_df"
   ]
  },
  {
   "cell_type": "code",
   "execution_count": 19,
   "metadata": {},
   "outputs": [],
   "source": [
    "# Defining metrics and order\n",
    "metrics = ['Recall', 'Precision', 'F1 Score', 'ROC AUC', 'Accuracy']\n",
    "\n",
    "mean_values = [combined_df[f'{metric}_Mean'] for metric in metrics]\n",
    "std_values = [combined_df[f'{metric}_Std'] for metric in metrics]\n"
   ]
  },
  {
   "cell_type": "code",
   "execution_count": 50,
   "metadata": {},
   "outputs": [
    {
     "data": {
      "image/png": "[encoded data removed]",
      "text/plain": [
       "<Figure size 1000x600 with 1 Axes>"
      ]
     },
     "metadata": {},
     "output_type": "display_data"
    }
   ],
   "source": [
    "#Plot setup\n",
    "x = np.arange(len(combined_df['Model']))\n",
    "width = 0.15\n",
    "fig, ax = plt.subplots(figsize=(10, 6))\n",
    "#Create bars for each metric, with small offsets.\n",
    "for i, (mean, std) in enumerate(zip(mean_values, std_values)):\n",
    "    ax.bar(x + i * width, mean, width, yerr= std, label= metrics[i], capsize=5)\n",
    "\n",
    "ax.set_xticks(x + width * (len(metrics) - 1) / 2)\n",
    "ax.set_xticklabels(combined_df['Model'])\n",
    "ax.set_ylabel('Score')\n",
    "ax.set_title('Comparison of Model Metrics with Standard Deviation')\n",
    "ax.legend()\n",
    "ax.grid(True, linestyle='--', alpha=0.5)\n",
    "\n",
    "plt.tight_layout()\n",
    "plt.savefig('../Figures/barplot_models_plt.png', dpi = 300)\n",
    "plt.show()"
   ]
  },
  {
   "cell_type": "code",
   "execution_count": 51,
   "metadata": {},
   "outputs": [],
   "source": [
    "#seaborn plot \n",
    "\n",
    "plot_df = pd.DataFrame()\n",
    "\n",
    "for metric in metrics:\n",
    "    temp_df = combined_df[['Model', f'{metric}_Mean', f'{metric}_Std']].copy()\n",
    "    temp_df['Metric'] = metric\n",
    "    temp_df.rename(columns={f'{metric}_Mean': 'Mean', f'{metric}_Std': 'Std'}, inplace=True)\n",
    "    plot_df = pd.concat([plot_df, temp_df], ignore_index=True)\n"
   ]
  },
  {
   "cell_type": "code",
   "execution_count": 52,
   "metadata": {},
   "outputs": [
    {
     "data": {
      "image/png": "[encoded data removed]",
      "text/plain": [
       "<Figure size 1000x600 with 1 Axes>"
      ]
     },
     "metadata": {},
     "output_type": "display_data"
    }
   ],
   "source": [
    "import matplotlib.pyplot as plt\n",
    "import seaborn as sns\n",
    "import numpy as np\n",
    "\n",
    "# Prepare figure\n",
    "plt.figure(figsize=(10, 6))\n",
    "\n",
    "# Plot bars without Seaborn’s internal error bars\n",
    "sns.barplot(\n",
    "    data=plot_df,\n",
    "    x='Metric',\n",
    "    y='Mean',\n",
    "    hue='Model',\n",
    "    palette='pastel',\n",
    "    errorbar=None,\n",
    "    capsize=0.1,\n",
    "    err_kws={'linewidth': 1}\n",
    ")\n",
    "\n",
    "# Add manual error bars, correctly positioned\n",
    "metric_order = plot_df['Metric'].unique()\n",
    "model_order = plot_df['Model'].unique()\n",
    "n_models = len(model_order)\n",
    "\n",
    "# Create mapping of category positions\n",
    "for i, metric in enumerate(metric_order):\n",
    "    for j, model in enumerate(model_order):\n",
    "        # Select the corresponding row\n",
    "        row = plot_df[(plot_df['Metric'] == metric) & (plot_df['Model'] == model)].iloc[0]\n",
    "        # Calculate x position with dodge logic (hard-coded for 0.8 bar width)\n",
    "        x = i - 0.4 + (j + 0.5) * 0.8 / n_models\n",
    "        plt.errorbar(\n",
    "            x=x,\n",
    "            y=row['Mean'],\n",
    "            yerr=row['Std'],\n",
    "            fmt='none',\n",
    "            c='black',\n",
    "            capsize=4,\n",
    "            linewidth=1\n",
    "        )\n",
    "\n",
    "# Final formatting\n",
    "plt.title('Model Comparison Across Evaluation Metrics')\n",
    "plt.ylabel('Score')\n",
    "plt.xlabel('Metric')\n",
    "plt.ylim(0, 1.0)\n",
    "plt.legend(title='Model', bbox_to_anchor=(1.05, 1), loc='upper left')\n",
    "plt.grid(True, linestyle='--', alpha=0.5)\n",
    "plt.tight_layout()\n",
    "plt.savefig('../Figures/barplot_models_sns.png', dpi=300)\n",
    "plt.show()\n"
   ]
  },
  {
   "cell_type": "code",
   "execution_count": null,
   "metadata": {},
   "outputs": [],
   "source": []
  }
 ],
 "metadata": {
  "kernelspec": {
   "display_name": "FoDS_11",
   "language": "python",
   "name": "python3"
  },
  "language_info": {
   "codemirror_mode": {
    "name": "ipython",
    "version": 3
   },
   "file_extension": ".py",
   "mimetype": "text/x-python",
   "name": "python",
   "nbconvert_exporter": "python",
   "pygments_lexer": "ipython3",
   "version": "3.11.11"
  }
 },
 "nbformat": 4,
 "nbformat_minor": 2
}
