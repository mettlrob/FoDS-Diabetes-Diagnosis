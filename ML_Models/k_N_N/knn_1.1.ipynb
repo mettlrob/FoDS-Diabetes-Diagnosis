{
 "cells": [
  {
   "cell_type": "code",
   "id": "initial_id",
   "metadata": {
    "collapsed": true,
    "ExecuteTime": {
     "end_time": "2025-05-06T13:18:49.799140Z",
     "start_time": "2025-05-06T13:18:49.234220Z"
    }
   },
   "source": [
    "import pandas as pd\n",
    "import numpy as np\n",
    "import matplotlib.pyplot as plt\n",
    "from mpl_toolkits.mplot3d import Axes3D\n",
    "\n",
    "from sklearn.metrics import roc_curve, confusion_matrix, auc\n",
    "from imblearn.over_sampling import SMOTE"
   ],
   "outputs": [
    {
     "ename": "ModuleNotFoundError",
     "evalue": "No module named 'sklearn.datasets'",
     "output_type": "error",
     "traceback": [
      "\u001B[1;31m---------------------------------------------------------------------------\u001B[0m",
      "\u001B[1;31mModuleNotFoundError\u001B[0m                       Traceback (most recent call last)",
      "Cell \u001B[1;32mIn[45], line 7\u001B[0m\n\u001B[0;32m      4\u001B[0m \u001B[38;5;28;01mfrom\u001B[39;00m \u001B[38;5;21;01mmpl_toolkits\u001B[39;00m\u001B[38;5;21;01m.\u001B[39;00m\u001B[38;5;21;01mmplot3d\u001B[39;00m \u001B[38;5;28;01mimport\u001B[39;00m Axes3D\n\u001B[0;32m      6\u001B[0m \u001B[38;5;28;01mfrom\u001B[39;00m \u001B[38;5;21;01msklearn\u001B[39;00m\u001B[38;5;21;01m.\u001B[39;00m\u001B[38;5;21;01mmetrics\u001B[39;00m \u001B[38;5;28;01mimport\u001B[39;00m roc_curve, confusion_matrix, auc\n\u001B[1;32m----> 7\u001B[0m \u001B[38;5;28;01mfrom\u001B[39;00m \u001B[38;5;21;01mimblearn\u001B[39;00m\u001B[38;5;21;01m.\u001B[39;00m\u001B[38;5;21;01mover_sampling\u001B[39;00m \u001B[38;5;28;01mimport\u001B[39;00m SMOTE\n",
      "File \u001B[1;32m~\\anaconda3\\Lib\\site-packages\\imblearn\\__init__.py:52\u001B[0m\n\u001B[0;32m     48\u001B[0m     sys\u001B[38;5;241m.\u001B[39mstderr\u001B[38;5;241m.\u001B[39mwrite(\u001B[38;5;124m\"\u001B[39m\u001B[38;5;124mPartial import of imblearn during the build process.\u001B[39m\u001B[38;5;130;01m\\n\u001B[39;00m\u001B[38;5;124m\"\u001B[39m)\n\u001B[0;32m     49\u001B[0m     \u001B[38;5;66;03m# We are not importing the rest of scikit-learn during the build\u001B[39;00m\n\u001B[0;32m     50\u001B[0m     \u001B[38;5;66;03m# process, as it may not be compiled yet\u001B[39;00m\n\u001B[0;32m     51\u001B[0m \u001B[38;5;28;01melse\u001B[39;00m:\n\u001B[1;32m---> 52\u001B[0m     \u001B[38;5;28;01mfrom\u001B[39;00m \u001B[38;5;21;01m.\u001B[39;00m \u001B[38;5;28;01mimport\u001B[39;00m (\n\u001B[0;32m     53\u001B[0m         combine,\n\u001B[0;32m     54\u001B[0m         ensemble,\n\u001B[0;32m     55\u001B[0m         exceptions,\n\u001B[0;32m     56\u001B[0m         metrics,\n\u001B[0;32m     57\u001B[0m         over_sampling,\n\u001B[0;32m     58\u001B[0m         pipeline,\n\u001B[0;32m     59\u001B[0m         tensorflow,\n\u001B[0;32m     60\u001B[0m         under_sampling,\n\u001B[0;32m     61\u001B[0m         utils,\n\u001B[0;32m     62\u001B[0m     )\n\u001B[0;32m     63\u001B[0m     \u001B[38;5;28;01mfrom\u001B[39;00m \u001B[38;5;21;01m.\u001B[39;00m\u001B[38;5;21;01m_version\u001B[39;00m \u001B[38;5;28;01mimport\u001B[39;00m __version__\n\u001B[0;32m     64\u001B[0m     \u001B[38;5;28;01mfrom\u001B[39;00m \u001B[38;5;21;01m.\u001B[39;00m\u001B[38;5;21;01mbase\u001B[39;00m \u001B[38;5;28;01mimport\u001B[39;00m FunctionSampler\n",
      "File \u001B[1;32m~\\anaconda3\\Lib\\site-packages\\imblearn\\combine\\__init__.py:5\u001B[0m\n\u001B[0;32m      1\u001B[0m \u001B[38;5;124;03m\"\"\"The :mod:`imblearn.combine` provides methods which combine\u001B[39;00m\n\u001B[0;32m      2\u001B[0m \u001B[38;5;124;03mover-sampling and under-sampling.\u001B[39;00m\n\u001B[0;32m      3\u001B[0m \u001B[38;5;124;03m\"\"\"\u001B[39;00m\n\u001B[1;32m----> 5\u001B[0m \u001B[38;5;28;01mfrom\u001B[39;00m \u001B[38;5;21;01m.\u001B[39;00m\u001B[38;5;21;01m_smote_enn\u001B[39;00m \u001B[38;5;28;01mimport\u001B[39;00m SMOTEENN\n\u001B[0;32m      6\u001B[0m \u001B[38;5;28;01mfrom\u001B[39;00m \u001B[38;5;21;01m.\u001B[39;00m\u001B[38;5;21;01m_smote_tomek\u001B[39;00m \u001B[38;5;28;01mimport\u001B[39;00m SMOTETomek\n\u001B[0;32m      8\u001B[0m __all__ \u001B[38;5;241m=\u001B[39m [\u001B[38;5;124m\"\u001B[39m\u001B[38;5;124mSMOTEENN\u001B[39m\u001B[38;5;124m\"\u001B[39m, \u001B[38;5;124m\"\u001B[39m\u001B[38;5;124mSMOTETomek\u001B[39m\u001B[38;5;124m\"\u001B[39m]\n",
      "File \u001B[1;32m~\\anaconda3\\Lib\\site-packages\\imblearn\\combine\\_smote_enn.py:12\u001B[0m\n\u001B[0;32m      9\u001B[0m \u001B[38;5;28;01mfrom\u001B[39;00m \u001B[38;5;21;01msklearn\u001B[39;00m\u001B[38;5;21;01m.\u001B[39;00m\u001B[38;5;21;01mbase\u001B[39;00m \u001B[38;5;28;01mimport\u001B[39;00m clone\n\u001B[0;32m     10\u001B[0m \u001B[38;5;28;01mfrom\u001B[39;00m \u001B[38;5;21;01msklearn\u001B[39;00m\u001B[38;5;21;01m.\u001B[39;00m\u001B[38;5;21;01mutils\u001B[39;00m \u001B[38;5;28;01mimport\u001B[39;00m check_X_y\n\u001B[1;32m---> 12\u001B[0m \u001B[38;5;28;01mfrom\u001B[39;00m \u001B[38;5;21;01m.\u001B[39;00m\u001B[38;5;21;01m.\u001B[39;00m\u001B[38;5;21;01mbase\u001B[39;00m \u001B[38;5;28;01mimport\u001B[39;00m BaseSampler\n\u001B[0;32m     13\u001B[0m \u001B[38;5;28;01mfrom\u001B[39;00m \u001B[38;5;21;01m.\u001B[39;00m\u001B[38;5;21;01m.\u001B[39;00m\u001B[38;5;21;01mover_sampling\u001B[39;00m \u001B[38;5;28;01mimport\u001B[39;00m SMOTE\n\u001B[0;32m     14\u001B[0m \u001B[38;5;28;01mfrom\u001B[39;00m \u001B[38;5;21;01m.\u001B[39;00m\u001B[38;5;21;01m.\u001B[39;00m\u001B[38;5;21;01mover_sampling\u001B[39;00m\u001B[38;5;21;01m.\u001B[39;00m\u001B[38;5;21;01mbase\u001B[39;00m \u001B[38;5;28;01mimport\u001B[39;00m BaseOverSampler\n",
      "File \u001B[1;32m~\\anaconda3\\Lib\\site-packages\\imblearn\\base.py:16\u001B[0m\n\u001B[0;32m     14\u001B[0m     \u001B[38;5;28;01mfrom\u001B[39;00m \u001B[38;5;21;01msklearn\u001B[39;00m\u001B[38;5;21;01m.\u001B[39;00m\u001B[38;5;21;01mbase\u001B[39;00m \u001B[38;5;28;01mimport\u001B[39;00m OneToOneFeatureMixin\n\u001B[0;32m     15\u001B[0m \u001B[38;5;28;01mexcept\u001B[39;00m \u001B[38;5;167;01mImportError\u001B[39;00m:\n\u001B[1;32m---> 16\u001B[0m     \u001B[38;5;28;01mfrom\u001B[39;00m \u001B[38;5;21;01msklearn\u001B[39;00m\u001B[38;5;21;01m.\u001B[39;00m\u001B[38;5;21;01mbase\u001B[39;00m \u001B[38;5;28;01mimport\u001B[39;00m _OneToOneFeatureMixin \u001B[38;5;28;01mas\u001B[39;00m OneToOneFeatureMixin\n\u001B[0;32m     17\u001B[0m \u001B[38;5;28;01mfrom\u001B[39;00m \u001B[38;5;21;01msklearn\u001B[39;00m\u001B[38;5;21;01m.\u001B[39;00m\u001B[38;5;21;01mpreprocessing\u001B[39;00m \u001B[38;5;28;01mimport\u001B[39;00m label_binarize\n\u001B[0;32m     18\u001B[0m \u001B[38;5;28;01mfrom\u001B[39;00m \u001B[38;5;21;01msklearn\u001B[39;00m\u001B[38;5;21;01m.\u001B[39;00m\u001B[38;5;21;01mutils\u001B[39;00m\u001B[38;5;21;01m.\u001B[39;00m\u001B[38;5;21;01mmulticlass\u001B[39;00m \u001B[38;5;28;01mimport\u001B[39;00m check_classification_targets\n",
      "File \u001B[1;32m~\\anaconda3\\Lib\\site-packages\\imblearn\\utils\\_sklearn_compat.py:370\u001B[0m\n\u001B[0;32m    363\u001B[0m \u001B[38;5;66;03m########################################################################################\u001B[39;00m\n\u001B[0;32m    364\u001B[0m \u001B[38;5;66;03m# Upgrading for scikit-learn 1.6\u001B[39;00m\n\u001B[0;32m    365\u001B[0m \u001B[38;5;66;03m########################################################################################\u001B[39;00m\n\u001B[0;32m    368\u001B[0m \u001B[38;5;28;01mif\u001B[39;00m sklearn_version \u001B[38;5;241m<\u001B[39m parse_version(\u001B[38;5;124m\"\u001B[39m\u001B[38;5;124m1.6\u001B[39m\u001B[38;5;124m\"\u001B[39m):\n\u001B[0;32m    369\u001B[0m     \u001B[38;5;66;03m# test_common\u001B[39;00m\n\u001B[1;32m--> 370\u001B[0m     \u001B[38;5;28;01mfrom\u001B[39;00m \u001B[38;5;21;01msklearn\u001B[39;00m\u001B[38;5;21;01m.\u001B[39;00m\u001B[38;5;21;01mutils\u001B[39;00m\u001B[38;5;21;01m.\u001B[39;00m\u001B[38;5;21;01mestimator_checks\u001B[39;00m \u001B[38;5;28;01mimport\u001B[39;00m _construct_instance\n\u001B[0;32m    372\u001B[0m     \u001B[38;5;28;01mdef\u001B[39;00m \u001B[38;5;21mtype_of_target\u001B[39m(y, input_name\u001B[38;5;241m=\u001B[39m\u001B[38;5;124m\"\u001B[39m\u001B[38;5;124m\"\u001B[39m, \u001B[38;5;241m*\u001B[39m, raise_unknown\u001B[38;5;241m=\u001B[39m\u001B[38;5;28;01mFalse\u001B[39;00m):\n\u001B[0;32m    373\u001B[0m         \u001B[38;5;66;03m# fix for raise_unknown which is introduced in scikit-learn 1.6\u001B[39;00m\n\u001B[0;32m    374\u001B[0m         \u001B[38;5;28;01mfrom\u001B[39;00m \u001B[38;5;21;01msklearn\u001B[39;00m\u001B[38;5;21;01m.\u001B[39;00m\u001B[38;5;21;01mutils\u001B[39;00m\u001B[38;5;21;01m.\u001B[39;00m\u001B[38;5;21;01mmulticlass\u001B[39;00m \u001B[38;5;28;01mimport\u001B[39;00m type_of_target\n",
      "File \u001B[1;32m~\\anaconda3\\Lib\\site-packages\\sklearn\\utils\\estimator_checks.py:45\u001B[0m\n\u001B[0;32m     37\u001B[0m \u001B[38;5;28;01mfrom\u001B[39;00m \u001B[38;5;21;01m.\u001B[39;00m\u001B[38;5;21;01m.\u001B[39;00m \u001B[38;5;28;01mimport\u001B[39;00m config_context\n\u001B[0;32m     38\u001B[0m \u001B[38;5;28;01mfrom\u001B[39;00m \u001B[38;5;21;01m.\u001B[39;00m\u001B[38;5;21;01m.\u001B[39;00m\u001B[38;5;21;01mbase\u001B[39;00m \u001B[38;5;28;01mimport\u001B[39;00m (\n\u001B[0;32m     39\u001B[0m     ClusterMixin,\n\u001B[0;32m     40\u001B[0m     clone,\n\u001B[1;32m   (...)\u001B[0m\n\u001B[0;32m     43\u001B[0m     is_regressor,\n\u001B[0;32m     44\u001B[0m )\n\u001B[1;32m---> 45\u001B[0m \u001B[38;5;28;01mfrom\u001B[39;00m \u001B[38;5;21;01m.\u001B[39;00m\u001B[38;5;21;01m.\u001B[39;00m\u001B[38;5;21;01mdatasets\u001B[39;00m \u001B[38;5;28;01mimport\u001B[39;00m (\n\u001B[0;32m     46\u001B[0m     load_iris,\n\u001B[0;32m     47\u001B[0m     make_blobs,\n\u001B[0;32m     48\u001B[0m     make_classification,\n\u001B[0;32m     49\u001B[0m     make_multilabel_classification,\n\u001B[0;32m     50\u001B[0m     make_regression,\n\u001B[0;32m     51\u001B[0m )\n\u001B[0;32m     52\u001B[0m \u001B[38;5;28;01mfrom\u001B[39;00m \u001B[38;5;21;01m.\u001B[39;00m\u001B[38;5;21;01m.\u001B[39;00m\u001B[38;5;21;01mexceptions\u001B[39;00m \u001B[38;5;28;01mimport\u001B[39;00m (\n\u001B[0;32m     53\u001B[0m     DataConversionWarning,\n\u001B[0;32m     54\u001B[0m     EstimatorCheckFailedWarning,\n\u001B[0;32m     55\u001B[0m     NotFittedError,\n\u001B[0;32m     56\u001B[0m     SkipTestWarning,\n\u001B[0;32m     57\u001B[0m )\n\u001B[0;32m     58\u001B[0m \u001B[38;5;28;01mfrom\u001B[39;00m \u001B[38;5;21;01m.\u001B[39;00m\u001B[38;5;21;01m.\u001B[39;00m\u001B[38;5;21;01mlinear_model\u001B[39;00m\u001B[38;5;21;01m.\u001B[39;00m\u001B[38;5;21;01m_base\u001B[39;00m \u001B[38;5;28;01mimport\u001B[39;00m LinearClassifierMixin\n",
      "\u001B[1;31mModuleNotFoundError\u001B[0m: No module named 'sklearn.datasets'"
     ]
    }
   ],
   "execution_count": 45
  },
  {
   "metadata": {},
   "cell_type": "markdown",
   "source": "Import scikit libraries",
   "id": "53488c0fb048fa7f"
  },
  {
   "metadata": {
    "ExecuteTime": {
     "end_time": "2025-05-06T13:32:01.777575Z",
     "start_time": "2025-05-06T13:32:01.751031Z"
    }
   },
   "cell_type": "code",
   "source": [
    "# --- Model selection utilities ---\n",
    "from sklearn.model_selection import train_test_split, GridSearchCV, cross_val_score\n",
    "\n",
    "# --- Preprocessing tools ---\n",
    "from sklearn.preprocessing import StandardScaler, MinMaxScaler, LabelEncoder\n",
    "\n",
    "# --- Classification models ---\n",
    "from sklearn.decomposition import PCA\n",
    "from sklearn.linear_model import LogisticRegression\n",
    "from sklearn.ensemble import RandomForestClassifier, GradientBoostingClassifier\n",
    "from sklearn.svm import SVC\n",
    "from sklearn.naive_bayes import GaussianNB\n",
    "from sklearn.neighbors import KNeighborsClassifier\n",
    "from sklearn.metrics import RocCurveDisplay\n",
    "from sklearn.tree import DecisionTreeClassifier\n",
    "from sklearn.model_selection import StratifiedKFold\n",
    "# --- Evaluation metrics ---\n",
    "from sklearn.metrics import (\n",
    "    accuracy_score,\n",
    "    precision_score,\n",
    "    recall_score,\n",
    "    f1_score,\n",
    "    roc_auc_score,\n",
    "    roc_curve,\n",
    "    confusion_matrix,\n",
    "    classification_report,\n",
    "    auc,\n",
    ")\n",
    "\n",
    "from sklearn.inspection import permutation_importance"
   ],
   "id": "ee0e9ec247f1988a",
   "outputs": [
    {
     "ename": "ModuleNotFoundError",
     "evalue": "No module named 'sklearn.inspection'",
     "output_type": "error",
     "traceback": [
      "\u001B[1;31m---------------------------------------------------------------------------\u001B[0m",
      "\u001B[1;31mModuleNotFoundError\u001B[0m                       Traceback (most recent call last)",
      "Cell \u001B[1;32mIn[47], line 30\u001B[0m\n\u001B[0;32m     17\u001B[0m \u001B[38;5;66;03m# --- Evaluation metrics ---\u001B[39;00m\n\u001B[0;32m     18\u001B[0m \u001B[38;5;28;01mfrom\u001B[39;00m \u001B[38;5;21;01msklearn\u001B[39;00m\u001B[38;5;21;01m.\u001B[39;00m\u001B[38;5;21;01mmetrics\u001B[39;00m \u001B[38;5;28;01mimport\u001B[39;00m (\n\u001B[0;32m     19\u001B[0m     accuracy_score,\n\u001B[0;32m     20\u001B[0m     precision_score,\n\u001B[1;32m   (...)\u001B[0m\n\u001B[0;32m     27\u001B[0m     auc,\n\u001B[0;32m     28\u001B[0m )\n\u001B[1;32m---> 30\u001B[0m \u001B[38;5;28;01mfrom\u001B[39;00m \u001B[38;5;21;01msklearn\u001B[39;00m\u001B[38;5;21;01m.\u001B[39;00m\u001B[38;5;21;01minspection\u001B[39;00m \u001B[38;5;28;01mimport\u001B[39;00m permutation_importance\n",
      "\u001B[1;31mModuleNotFoundError\u001B[0m: No module named 'sklearn.inspection'"
     ]
    }
   ],
   "execution_count": 47
  },
  {
   "metadata": {},
   "cell_type": "markdown",
   "source": [
    "# 1. Data Loading\n",
    "\n"
   ],
   "id": "45d6e39e4d7013e8"
  },
  {
   "metadata": {
    "ExecuteTime": {
     "end_time": "2025-05-06T13:35:44.984288Z",
     "start_time": "2025-05-06T13:35:44.974388Z"
    }
   },
   "cell_type": "code",
   "source": [
    "df = pd.read_csv('../../data/diabetes.csv')\n",
    "X = df.drop('Outcome', axis=1)\n",
    "y = df['Outcome']"
   ],
   "id": "c3ec247dab1bd328",
   "outputs": [],
   "execution_count": 48
  },
  {
   "metadata": {},
   "cell_type": "markdown",
   "source": "# 2. Train-Test Split (80/20)",
   "id": "66d9d9f0cdb7a60"
  },
  {
   "metadata": {
    "ExecuteTime": {
     "end_time": "2025-05-06T13:27:46.989241Z",
     "start_time": "2025-05-06T13:27:46.981285Z"
    }
   },
   "cell_type": "code",
   "source": [
    "X_train, X_test, y_train, y_test = train_test_split(\n",
    "    X, y, test_size=0.2, stratify=y, random_state=42\n",
    ")"
   ],
   "id": "2bbf9d18dfe278c1",
   "outputs": [],
   "execution_count": 46
  },
  {
   "metadata": {},
   "cell_type": "markdown",
   "source": [
    "# 3. Class Balancing (on Training Set Only)\n",
    "Use SMOTE or ADASYN to upsample minority class (Outcome = 1):"
   ],
   "id": "62b80ba7e41e08d9"
  },
  {
   "metadata": {
    "ExecuteTime": {
     "end_time": "2025-05-06T13:07:13.252722Z",
     "start_time": "2025-05-06T13:07:13.233026Z"
    }
   },
   "cell_type": "code",
   "source": [
    "smote = SMOTE(random_state=42)\n",
    "X_train_bal, y_train_bal = smote.fit_resample(X_train, y_train)"
   ],
   "id": "ecd8f05138f8963a",
   "outputs": [
    {
     "ename": "NameError",
     "evalue": "name 'SMOTE' is not defined",
     "output_type": "error",
     "traceback": [
      "\u001B[1;31m---------------------------------------------------------------------------\u001B[0m",
      "\u001B[1;31mNameError\u001B[0m                                 Traceback (most recent call last)",
      "Cell \u001B[1;32mIn[29], line 1\u001B[0m\n\u001B[1;32m----> 1\u001B[0m smote \u001B[38;5;241m=\u001B[39m SMOTE(random_state\u001B[38;5;241m=\u001B[39m\u001B[38;5;241m42\u001B[39m)\n\u001B[0;32m      2\u001B[0m X_train_bal, y_train_bal \u001B[38;5;241m=\u001B[39m smote\u001B[38;5;241m.\u001B[39mfit_resample(X_train, y_train)\n",
      "\u001B[1;31mNameError\u001B[0m: name 'SMOTE' is not defined"
     ]
    }
   ],
   "execution_count": 29
  },
  {
   "metadata": {},
   "cell_type": "markdown",
   "source": "# 4. Nested Cross validation for model selection and hyperparameter tuning",
   "id": "bf74525270c27154"
  },
  {
   "metadata": {},
   "cell_type": "code",
   "outputs": [],
   "execution_count": null,
   "source": [
    "param_grid = {\n",
    "    'knn__n_neighbors': [3, 5, 7, 9],\n",
    "    'knn__metric': ['euclidean', 'manhattan']\n",
    "}"
   ],
   "id": "c090c8eb2ff9a8a"
  },
  {
   "metadata": {},
   "cell_type": "markdown",
   "source": "# 5. Evaluation Metrics and Visualization",
   "id": "ce61cf5fe02eb64f"
  },
  {
   "metadata": {},
   "cell_type": "code",
   "outputs": [],
   "execution_count": null,
   "source": [
    "# ROC Curve per outer fold\n",
    "# Final ROC for best model\n",
    "# F1-score and confusion matrix on test set\n",
    "# Save best model for interpretation"
   ],
   "id": "1c519d8a754428b1"
  },
  {
   "metadata": {},
   "cell_type": "markdown",
   "source": "# 6. Permuation feature importance",
   "id": "64af32b11f9fc6fc"
  },
  {
   "metadata": {},
   "cell_type": "code",
   "outputs": [],
   "execution_count": null,
   "source": [
    "perm_result = permutation_importance(\n",
    "    best_model, X_test, y_test, scoring='f1', n_repeats=30, random_state=42\n",
    ")"
   ],
   "id": "dd9d45bf368127b8"
  },
  {
   "metadata": {},
   "cell_type": "markdown",
   "source": "# 7. Decision Threshold & Interpretation",
   "id": "7e1c27577df8af2c"
  },
  {
   "metadata": {},
   "cell_type": "code",
   "outputs": [],
   "execution_count": null,
   "source": [
    "prob = best_model.predict_proba(X_test)[:, 1]\n",
    "plt.scatter(X_test[\"Glucose\"], prob, c=y_test, cmap=\"bwr\")\n",
    "plt.axhline(0.5, linestyle=\"--\", color=\"gray\")\n"
   ],
   "id": "6e3f74413e5b7bfa"
  }
 ],
 "metadata": {
  "kernelspec": {
   "display_name": "Python 3",
   "language": "python",
   "name": "python3"
  },
  "language_info": {
   "codemirror_mode": {
    "name": "ipython",
    "version": 2
   },
   "file_extension": ".py",
   "mimetype": "text/x-python",
   "name": "python",
   "nbconvert_exporter": "python",
   "pygments_lexer": "ipython2",
   "version": "2.7.6"
  }
 },
 "nbformat": 4,
 "nbformat_minor": 5
}
